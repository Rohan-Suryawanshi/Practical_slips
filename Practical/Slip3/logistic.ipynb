{
 "cells": [
  {
   "cell_type": "code",
   "execution_count": 9,
   "metadata": {},
   "outputs": [
    {
     "name": "stdout",
     "output_type": "stream",
     "text": [
      "        User ID        Age  Estimated Salary  Purchased\n",
      "count  5.000000   5.000000          5.000000   5.000000\n",
      "mean   3.000000  35.000000      70000.000000   0.600000\n",
      "std    1.581139   7.905694      15811.388301   0.547723\n",
      "min    1.000000  25.000000      50000.000000   0.000000\n",
      "25%    2.000000  30.000000      60000.000000   0.000000\n",
      "50%    3.000000  35.000000      70000.000000   1.000000\n",
      "75%    4.000000  40.000000      80000.000000   1.000000\n",
      "max    5.000000  45.000000      90000.000000   1.000000\n",
      "[1 1 0]\n",
      "Accuracy: 0.3333333333333333\n"
     ]
    }
   ],
   "source": [
    "import pandas as pd\n",
    "from sklearn.model_selection import train_test_split\n",
    "from sklearn.linear_model import LogisticRegression\n",
    "\n",
    "# Creating the 'User' dataset\n",
    "data = {\n",
    "    'User ID': [1, 2, 3, 4, 5],\n",
    "    'Gender': ['1', '0', '1', '0', '1'],\n",
    "    'Age': [25, 35, 40, 30, 45],\n",
    "    'Estimated Salary': [50000, 60000, 80000, 70000, 90000],\n",
    "    'Purchased': [1, 0, 1, 0, 1]  # 1: Purchased, 0: Not purchased\n",
    "}\n",
    "\n",
    "df = pd.DataFrame(data)\n",
    "X = df[['Gender', 'Age', 'Estimated Salary']]\n",
    "y = df['Purchased']\n",
    "\n",
    "\n",
    "X_train, X_test, y_train, y_test = train_test_split(X, y, test_size=0.6)\n",
    "\n",
    "\n",
    "model = LogisticRegression()\n",
    "model.fit(X_train, y_train)\n",
    "\n",
    "\n",
    "y_pred = model.predict(X_test)\n",
    "print(y_pred)\n",
    "\n",
    "accuracy = model.score(X_test, y_test)\n",
    "print(\"Accuracy:\", accuracy)\n"
   ]
  },
  {
   "cell_type": "code",
   "execution_count": null,
   "metadata": {},
   "outputs": [
    {
     "name": "stdout",
     "output_type": "stream",
     "text": [
      "Will the person purchase a car? Yes\n"
     ]
    }
   ],
   "source": [
    "\n",
    "new_data = {\n",
    "    'Gender': [0],\n",
    "    'Age': [30],\n",
    "    'Estimated Salary': [50000]\n",
    "}\n",
    "\n",
    "new_df = pd.DataFrame(new_data)\n",
    "\n",
    "prediction = model.predict(new_df)\n",
    "\n",
    "if prediction[0] == 1:\n",
    "    prediction_label='Yes'\n",
    "else:\n",
    "    prediction_label='No'\n",
    "\n",
    "\n",
    "print(\"Will the person purchase a car?\", prediction_label)\n"
   ]
  },
  {
   "cell_type": "code",
   "execution_count": null,
   "metadata": {},
   "outputs": [],
   "source": []
  },
  {
   "cell_type": "code",
   "execution_count": null,
   "metadata": {},
   "outputs": [],
   "source": []
  },
  {
   "cell_type": "code",
   "execution_count": null,
   "metadata": {},
   "outputs": [],
   "source": []
  }
 ],
 "metadata": {
  "kernelspec": {
   "display_name": "Python 3",
   "language": "python",
   "name": "python3"
  },
  "language_info": {
   "codemirror_mode": {
    "name": "ipython",
    "version": 3
   },
   "file_extension": ".py",
   "mimetype": "text/x-python",
   "name": "python",
   "nbconvert_exporter": "python",
   "pygments_lexer": "ipython3",
   "version": "3.12.0"
  }
 },
 "nbformat": 4,
 "nbformat_minor": 2
}
