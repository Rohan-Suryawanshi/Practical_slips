{
 "cells": [
  {
   "cell_type": "code",
   "execution_count": 1,
   "metadata": {},
   "outputs": [
    {
     "name": "stdout",
     "output_type": "stream",
     "text": [
      "['Hello', ',', 'Welcome', 'Python', 'Programming', 'Academy', '.', 'Python', 'Programming', 'Academy', 'nice', 'platform', 'learn', 'new', 'programming', 'skills', '.', 'It', 'difficult', 'get', 'enrolled', 'Academy']\n"
     ]
    }
   ],
   "source": [
    "from nltk.tokenize import word_tokenize\n",
    "from nltk.corpus import stopwords\n",
    "\n",
    "text=\"\"\"Hello all, Welcome to Python Programming Academy. Python Programming Academy is a nice platform to learn new programming skills. It is difficult to get enrolled in this Academy\"\"\"\n",
    "\n",
    "word_data=word_tokenize(text)\n",
    "stopwords_data=stopwords.words(\"english\")\n",
    "\n",
    "word_data_without_stopword=[]\n",
    "for words in word_data:\n",
    "    if words not in stopwords_data:\n",
    "        word_data_without_stopword.append(words)\n",
    "print(word_data_without_stopword)"
   ]
  },
  {
   "cell_type": "code",
   "execution_count": null,
   "metadata": {},
   "outputs": [],
   "source": []
  }
 ],
 "metadata": {
  "kernelspec": {
   "display_name": "Python 3",
   "language": "python",
   "name": "python3"
  },
  "language_info": {
   "codemirror_mode": {
    "name": "ipython",
    "version": 3
   },
   "file_extension": ".py",
   "mimetype": "text/x-python",
   "name": "python",
   "nbconvert_exporter": "python",
   "pygments_lexer": "ipython3",
   "version": "3.11.9"
  }
 },
 "nbformat": 4,
 "nbformat_minor": 2
}
