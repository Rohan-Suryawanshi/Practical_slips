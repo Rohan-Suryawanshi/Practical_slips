{
 "cells": [
  {
   "cell_type": "code",
   "execution_count": 75,
   "metadata": {},
   "outputs": [
    {
     "name": "stdout",
     "output_type": "stream",
     "text": [
      "Hello all  Welcome to Python Programming Academy. Python \n",
      "Programming Academy is a nice platform to learn new programming skills. It is \n",
      "difficult to get enrolled in this Academy.\n"
     ]
    }
   ],
   "source": [
    "import re\n",
    "text=\"\"\"Hello all, Welcome to Python Programming Academy. Python \n",
    "Programming Academy is a nice platform to learn new programming skills. It is \n",
    "difficult to get enrolled in this Academy.\"\"\"\n",
    "\n",
    "# text=re.sub('[\\W\\d]',' ',text) #non-word character (\\W) or any digit (\\d).\n",
    "# text\n",
    "\n",
    "processed_text = re.sub('[^.a-zA-Z\\s]', ' ', text)\n",
    "text = re.sub(r'\\d+', ' ', processed_text)\n",
    "print(text)"
   ]
  },
  {
   "cell_type": "code",
   "execution_count": 76,
   "metadata": {},
   "outputs": [
    {
     "name": "stdout",
     "output_type": "stream",
     "text": [
      "['Hello all  Welcome to Python Programming Academy.', 'Python \\nProgramming Academy is a nice platform to learn new programming skills.', 'It is \\ndifficult to get enrolled in this Academy.']\n",
      "{'Hello': 1, 'Welcome': 1, 'Python': 2, 'Programming': 2, 'Academy': 3, '.': 3, 'nice': 1, 'platform': 1, 'learn': 1, 'new': 1, 'programming': 1, 'skills': 1, 'It': 1, 'difficult': 1, 'get': 1, 'enrolled': 1}\n"
     ]
    }
   ],
   "source": [
    "from nltk.tokenize import word_tokenize,sent_tokenize\n",
    "from nltk.corpus import stopwords\n",
    "from heapq import nlargest\n",
    "\n",
    "sent_tokenize_data=sent_tokenize(text)\n",
    "print(sent_tokenize_data)\n",
    "\n",
    "stopwords_data=stopwords.words(\"english\")\n",
    "word_tokenize_data=word_tokenize(text)\n",
    "\n",
    "\n",
    "word_freq={}\n",
    "for word in word_tokenize_data:\n",
    "    if word in stopwords_data:\n",
    "        continue\n",
    "    if word in word_freq:\n",
    "        word_freq[word]+=1\n",
    "    else:\n",
    "        word_freq[word]=1\n",
    "print(word_freq)\n",
    "\n",
    "\n"
   ]
  },
  {
   "cell_type": "code",
   "execution_count": 77,
   "metadata": {},
   "outputs": [
    {
     "name": "stdout",
     "output_type": "stream",
     "text": [
      "3\n"
     ]
    }
   ],
   "source": [
    "maximum_frequency=max(word_freq.values())\n",
    "print(maximum_frequency)"
   ]
  },
  {
   "cell_type": "code",
   "execution_count": 78,
   "metadata": {},
   "outputs": [
    {
     "name": "stdout",
     "output_type": "stream",
     "text": [
      "{'Hello': 0.3333333333333333, 'Welcome': 0.3333333333333333, 'Python': 0.6666666666666666, 'Programming': 0.6666666666666666, 'Academy': 1.0, '.': 1.0, 'nice': 0.3333333333333333, 'platform': 0.3333333333333333, 'learn': 0.3333333333333333, 'new': 0.3333333333333333, 'programming': 0.3333333333333333, 'skills': 0.3333333333333333, 'It': 0.3333333333333333, 'difficult': 0.3333333333333333, 'get': 0.3333333333333333, 'enrolled': 0.3333333333333333}\n"
     ]
    }
   ],
   "source": [
    "for word in word_freq.keys():\n",
    "    word_freq[word]=(word_freq[word]/maximum_frequency)\n",
    "print(word_freq)"
   ]
  },
  {
   "cell_type": "code",
   "execution_count": 79,
   "metadata": {},
   "outputs": [
    {
     "name": "stdout",
     "output_type": "stream",
     "text": [
      "['Hello all  Welcome to Python Programming Academy.', 'Python \\nProgramming Academy is a nice platform to learn new programming skills.', 'It is \\ndifficult to get enrolled in this Academy.']\n",
      "{'Hello all  Welcome to Python Programming Academy.': 1.3333333333333333, 'Python \\nProgramming Academy is a nice platform to learn new programming skills.': 3.0, 'It is \\ndifficult to get enrolled in this Academy.': 1.9999999999999998}\n"
     ]
    }
   ],
   "source": [
    "sent_tokenize_data=sent_tokenize(text)\n",
    "print(sent_tokenize_data)\n",
    "sentence_value={}\n",
    "for sentence in sent_tokenize_data:\n",
    "    for word,freq in word_freq.items():\n",
    "        if word in sentence.lower():\n",
    "            if sentence in sentence_value:\n",
    "                sentence_value[sentence]+=freq\n",
    "            else:\n",
    "                sentence_value[sentence]=freq\n",
    "print(sentence_value)"
   ]
  },
  {
   "cell_type": "code",
   "execution_count": 80,
   "metadata": {},
   "outputs": [
    {
     "name": "stdout",
     "output_type": "stream",
     "text": [
      "Python \n",
      "Programming Academy is a nice platform to learn new programming skills.It is \n",
      "difficult to get enrolled in this Academy.Hello all  Welcome to Python Programming Academy.\n"
     ]
    }
   ],
   "source": [
    "summary_sentence=nlargest(4,sentence_value,key=sentence_value.get)\n",
    "summary=''.join(summary_sentence)\n",
    "print(summary)"
   ]
  },
  {
   "cell_type": "code",
   "execution_count": null,
   "metadata": {},
   "outputs": [],
   "source": []
  }
 ],
 "metadata": {
  "kernelspec": {
   "display_name": "Python 3",
   "language": "python",
   "name": "python3"
  },
  "language_info": {
   "codemirror_mode": {
    "name": "ipython",
    "version": 3
   },
   "file_extension": ".py",
   "mimetype": "text/x-python",
   "name": "python",
   "nbconvert_exporter": "python",
   "pygments_lexer": "ipython3",
   "version": "3.11.9"
  }
 },
 "nbformat": 4,
 "nbformat_minor": 2
}
