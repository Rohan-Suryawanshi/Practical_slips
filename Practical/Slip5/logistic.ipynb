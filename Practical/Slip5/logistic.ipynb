{
 "cells": [
  {
   "cell_type": "code",
   "execution_count": 6,
   "metadata": {},
   "outputs": [
    {
     "name": "stdout",
     "output_type": "stream",
     "text": [
      "           Id                                                            \\\n",
      "        count        mean        std    min    25%    50%    75%    max   \n",
      "Species                                                                   \n",
      "1        15.0   29.666667  19.148542    1.0   14.5   28.0   46.5   50.0   \n",
      "2        21.0   61.000000   6.204837   51.0   56.0   61.0   66.0   71.0   \n",
      "3        13.0  107.000000   3.894440  101.0  104.0  107.0  110.0  113.0   \n",
      "\n",
      "        SepalLengthCm            ... PetalLengthCm      PetalWidthCm  \\\n",
      "                count      mean  ...           75%  max        count   \n",
      "Species                          ...                                   \n",
      "1                15.0  4.946667  ...           1.6  1.9         15.0   \n",
      "2                21.0  5.971429  ...           4.6  4.9         21.0   \n",
      "3                13.0  6.569231  ...           6.0  6.6         13.0   \n",
      "\n",
      "                                                       \n",
      "             mean       std  min  25%  50%   75%  max  \n",
      "Species                                                \n",
      "1        0.260000  0.118322  0.2  0.2  0.2  0.25  0.6  \n",
      "2        1.347619  0.220497  1.0  1.3  1.4  1.50  1.8  \n",
      "3        2.030769  0.256205  1.7  1.8  2.0  2.10  2.5  \n",
      "\n",
      "[3 rows x 40 columns]\n",
      "[1 2 2 2 3 1 1 2 1 2 1 2 1 3 3 3 2 2 2 3 3 3 2 2 2 1 3 3 2 2]\n",
      "Accuracy: 0.8666666666666667\n"
     ]
    }
   ],
   "source": [
    "import pandas as pd\n",
    "from sklearn.model_selection import train_test_split\n",
    "from sklearn.linear_model import LogisticRegression\n",
    "\n",
    "df = pd.read_csv(\"iris.csv\")\n",
    "X = df[['SepalLengthCm', 'SepalWidthCm', 'PetalLengthCm','PetalWidthCm']]\n",
    "y = df['Species']\n",
    "\n",
    "print(df.groupby(\"Species\").describe())\n",
    "X_train, X_test, y_train, y_test = train_test_split(X, y, test_size=0.6)\n",
    "\n",
    "\n",
    "model = LogisticRegression()\n",
    "model.fit(X_train, y_train)\n",
    "\n",
    "\n",
    "y_pred = model.predict(X_test)\n",
    "print(y_pred)\n",
    "\n",
    "accuracy = model.score(X_test, y_test)\n",
    "print(\"Accuracy:\", accuracy)\n"
   ]
  },
  {
   "cell_type": "code",
   "execution_count": null,
   "metadata": {},
   "outputs": [],
   "source": []
  },
  {
   "cell_type": "code",
   "execution_count": null,
   "metadata": {},
   "outputs": [],
   "source": []
  },
  {
   "cell_type": "code",
   "execution_count": null,
   "metadata": {},
   "outputs": [],
   "source": []
  }
 ],
 "metadata": {
  "kernelspec": {
   "display_name": "Python 3",
   "language": "python",
   "name": "python3"
  },
  "language_info": {
   "codemirror_mode": {
    "name": "ipython",
    "version": 3
   },
   "file_extension": ".py",
   "mimetype": "text/x-python",
   "name": "python",
   "nbconvert_exporter": "python",
   "pygments_lexer": "ipython3",
   "version": "3.12.0"
  }
 },
 "nbformat": 4,
 "nbformat_minor": 2
}
