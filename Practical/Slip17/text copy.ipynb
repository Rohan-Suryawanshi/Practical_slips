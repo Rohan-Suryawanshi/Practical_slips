{
 "cells": [
  {
   "cell_type": "code",
   "execution_count": 1,
   "metadata": {},
   "outputs": [
    {
     "name": "stdout",
     "output_type": "stream",
     "text": [
      "So  keep working. Keep striving. Never give up. Fall down seven times  get \n",
      "up eight. Ease is a greater threat to progress than hardship. Ease is a greater threat to progress than \n",
      "hardship. So  keep moving  keep growing  keep learning. See you at work.\n"
     ]
    }
   ],
   "source": [
    "import re\n",
    "text=\"\"\"So, keep working. Keep striving. Never give up. Fall down seven times, get \n",
    "up eight. Ease is a greater threat to progress than hardship. Ease is a greater threat to progress than \n",
    "hardship. So, keep moving, keep growing, keep learning. See you at work.\"\"\"\n",
    "\n",
    "# text=re.sub('[\\W\\d]',' ',text) #non-word character (\\W) or any digit (\\d).\n",
    "# text\n",
    "\n",
    "processed_text = re.sub('[^.a-zA-Z\\s]', ' ', text)\n",
    "text = re.sub(r'\\d+', ' ', processed_text)\n",
    "print(text)"
   ]
  },
  {
   "cell_type": "code",
   "execution_count": 12,
   "metadata": {},
   "outputs": [
    {
     "name": "stdout",
     "output_type": "stream",
     "text": [
      "['So  keep working.', 'Keep striving.', 'Never give up.', 'Fall down seven times  get \\nup eight.', 'Ease is a greater threat to progress than hardship.', 'Ease is a greater threat to progress than \\nhardship.', 'So  keep moving  keep growing  keep learning.', 'See you at work.']\n",
      "{'So': 2, 'keep': 4, 'working': 1, '.': 8, 'Keep': 1, 'striving': 1, 'Never': 1, 'give': 1, 'Fall': 1, 'seven': 1, 'times': 1, 'get': 1, 'eight': 1, 'Ease': 2, 'greater': 2, 'threat': 2, 'progress': 2, 'hardship': 2, 'moving': 1, 'growing': 1, 'learning': 1, 'See': 1, 'work': 1}\n"
     ]
    }
   ],
   "source": [
    "from nltk.tokenize import word_tokenize,sent_tokenize\n",
    "from nltk.corpus import stopwords\n",
    "from heapq import nlargest\n",
    "\n",
    "sent_tokenize_data=sent_tokenize(text)\n",
    "print(sent_tokenize_data)\n",
    "\n",
    "stopwords_data=stopwords.words(\"english\")\n",
    "word_tokenize_data=word_tokenize(text)\n",
    "\n",
    "\n",
    "word_freq={}\n",
    "for word in word_tokenize_data:\n",
    "    if word in stopwords_data:\n",
    "        continue\n",
    "    if word in word_freq:\n",
    "        word_freq[word]+=1\n",
    "    else:\n",
    "        word_freq[word]=1\n",
    "print(word_freq)\n",
    "\n",
    "\n"
   ]
  },
  {
   "cell_type": "code",
   "execution_count": 3,
   "metadata": {},
   "outputs": [
    {
     "name": "stdout",
     "output_type": "stream",
     "text": [
      "8\n"
     ]
    }
   ],
   "source": [
    "maximum_frequency=max(word_freq.values())\n",
    "print(maximum_frequency)"
   ]
  },
  {
   "cell_type": "code",
   "execution_count": 4,
   "metadata": {},
   "outputs": [
    {
     "name": "stdout",
     "output_type": "stream",
     "text": [
      "{'So': 0.25, 'keep': 0.5, 'working': 0.125, '.': 1.0, 'Keep': 0.125, 'striving': 0.125, 'Never': 0.125, 'give': 0.125, 'Fall': 0.125, 'seven': 0.125, 'times': 0.125, 'get': 0.125, 'eight': 0.125, 'Ease': 0.25, 'greater': 0.25, 'threat': 0.25, 'progress': 0.25, 'hardship': 0.25, 'moving': 0.125, 'growing': 0.125, 'learning': 0.125, 'See': 0.125, 'work': 0.125}\n"
     ]
    }
   ],
   "source": [
    "for word in word_freq.keys():\n",
    "    word_freq[word]=(word_freq[word]/maximum_frequency)\n",
    "print(word_freq)"
   ]
  },
  {
   "cell_type": "code",
   "execution_count": 5,
   "metadata": {},
   "outputs": [
    {
     "name": "stdout",
     "output_type": "stream",
     "text": [
      "['So  keep working.', 'Keep striving.', 'Never give up.', 'Fall down seven times  get \\nup eight.', 'Ease is a greater threat to progress than hardship.', 'Ease is a greater threat to progress than \\nhardship.', 'So  keep moving  keep growing  keep learning.', 'See you at work.']\n",
      "{'So  keep working.': 1.75, 'Keep striving.': 1.625, 'Never give up.': 1.125, 'Fall down seven times  get \\nup eight.': 1.5, 'Ease is a greater threat to progress than hardship.': 2.0, 'Ease is a greater threat to progress than \\nhardship.': 2.0, 'So  keep moving  keep growing  keep learning.': 1.875, 'See you at work.': 1.125}\n"
     ]
    }
   ],
   "source": [
    "sent_tokenize_data=sent_tokenize(text)\n",
    "print(sent_tokenize_data)\n",
    "sentence_value={}\n",
    "for sentence in sent_tokenize_data:\n",
    "    for word,freq in word_freq.items():\n",
    "        if word in sentence.lower():\n",
    "            if sentence in sentence_value:\n",
    "                sentence_value[sentence]+=freq\n",
    "            else:\n",
    "                sentence_value[sentence]=freq\n",
    "print(sentence_value)"
   ]
  },
  {
   "cell_type": "code",
   "execution_count": 6,
   "metadata": {},
   "outputs": [
    {
     "name": "stdout",
     "output_type": "stream",
     "text": [
      "Ease is a greater threat to progress than hardship.Ease is a greater threat to progress than \n",
      "hardship.So  keep moving  keep growing  keep learning.So  keep working.\n"
     ]
    }
   ],
   "source": [
    "summary_sentence=nlargest(4,sentence_value,key=sentence_value.get)\n",
    "summary=''.join(summary_sentence)\n",
    "print(summary)"
   ]
  },
  {
   "cell_type": "code",
   "execution_count": null,
   "metadata": {},
   "outputs": [],
   "source": []
  }
 ],
 "metadata": {
  "kernelspec": {
   "display_name": "Python 3",
   "language": "python",
   "name": "python3"
  },
  "language_info": {
   "codemirror_mode": {
    "name": "ipython",
    "version": 3
   },
   "file_extension": ".py",
   "mimetype": "text/x-python",
   "name": "python",
   "nbconvert_exporter": "python",
   "pygments_lexer": "ipython3",
   "version": "3.11.9"
  }
 },
 "nbformat": 4,
 "nbformat_minor": 2
}
